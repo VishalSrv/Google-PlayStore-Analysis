{
 "cells": [
  {
   "cell_type": "markdown",
   "metadata": {
    "application/vnd.databricks.v1+cell": {
     "cellMetadata": {},
     "inputWidgets": {},
     "nuid": "52e78529-4196-43cc-90ba-bcf3859b673e",
     "showTitle": false,
     "title": ""
    }
   },
   "source": [
    "Importing libraries"
   ]
  },
  {
   "cell_type": "code",
   "execution_count": 0,
   "metadata": {
    "application/vnd.databricks.v1+cell": {
     "cellMetadata": {
      "byteLimit": 2048000,
      "rowLimit": 10000
     },
     "inputWidgets": {},
     "nuid": "97b5fd63-7226-420a-8dbb-f9c77108d72f",
     "showTitle": false,
     "title": ""
    }
   },
   "outputs": [],
   "source": [
    "from pyspark.sql import SparkSession\n",
    "from pyspark.sql.functions import *\n",
    "from pyspark.sql.types import *\n",
    "from pyspark.sql import Window"
   ]
  },
  {
   "cell_type": "markdown",
   "metadata": {
    "application/vnd.databricks.v1+cell": {
     "cellMetadata": {},
     "inputWidgets": {},
     "nuid": "90dc91ab-59c2-49d1-a1a3-dc8f2933f7f3",
     "showTitle": false,
     "title": ""
    }
   },
   "source": [
    "Creating spark Session"
   ]
  },
  {
   "cell_type": "code",
   "execution_count": 0,
   "metadata": {
    "application/vnd.databricks.v1+cell": {
     "cellMetadata": {
      "byteLimit": 2048000,
      "rowLimit": 10000
     },
     "inputWidgets": {},
     "nuid": "4dcb897f-c603-4804-9a6e-5c2d0a9d108c",
     "showTitle": false,
     "title": ""
    }
   },
   "outputs": [],
   "source": [
    "spark=SparkSession.builder.appName(\"Google_Play_Store\").getOrCreate()"
   ]
  },
  {
   "cell_type": "markdown",
   "metadata": {
    "application/vnd.databricks.v1+cell": {
     "cellMetadata": {},
     "inputWidgets": {},
     "nuid": "546b5ce0-3b18-4ab9-931f-a435e8699219",
     "showTitle": false,
     "title": ""
    }
   },
   "source": [
    "Reading csv file"
   ]
  },
  {
   "cell_type": "code",
   "execution_count": 0,
   "metadata": {
    "application/vnd.databricks.v1+cell": {
     "cellMetadata": {
      "byteLimit": 2048000,
      "rowLimit": 10000
     },
     "inputWidgets": {},
     "nuid": "d4eb9db7-d718-4e14-acf9-d48eef4d7a67",
     "showTitle": false,
     "title": ""
    }
   },
   "outputs": [],
   "source": [
    "google_df=spark.read.format(\"csv\")\\\n",
    "                .option(\"header\",\"True\")\\\n",
    "                  .option(\"inferschema\",\"True\")\\\n",
    "                    .load(\"/FileStore/tables/googleplaystore.csv\")"
   ]
  },
  {
   "cell_type": "code",
   "execution_count": 0,
   "metadata": {
    "application/vnd.databricks.v1+cell": {
     "cellMetadata": {
      "byteLimit": 2048000,
      "rowLimit": 10000
     },
     "inputWidgets": {},
     "nuid": "4296c4a5-6970-4a71-aa35-8e8164f09daf",
     "showTitle": false,
     "title": ""
    }
   },
   "outputs": [
    {
     "output_type": "stream",
     "name": "stdout",
     "output_type": "stream",
     "text": [
      "+--------------------+--------------+------+-------+----+--------+----+-----+--------------+------------+---------------+-----------+------------+\n|                 App|      Category|Rating|Reviews|Size|Installs|Type|Price|Content Rating|      Genres|   Last Updated|Current Ver| Android Ver|\n+--------------------+--------------+------+-------+----+--------+----+-----+--------------+------------+---------------+-----------+------------+\n|Photo Editor & Ca...|ART_AND_DESIGN|   4.1|    159| 19M| 10,000+|Free|    0|      Everyone|Art & Design|January 7, 2018|      1.0.0|4.0.3 and up|\n+--------------------+--------------+------+-------+----+--------+----+-----+--------------+------------+---------------+-----------+------------+\nonly showing top 1 row\n\n"
     ]
    }
   ],
   "source": [
    "google_df.show(1)"
   ]
  },
  {
   "cell_type": "markdown",
   "metadata": {
    "application/vnd.databricks.v1+cell": {
     "cellMetadata": {},
     "inputWidgets": {},
     "nuid": "e6e5e2c4-db43-412c-89b2-1793ef9401d6",
     "showTitle": false,
     "title": ""
    }
   },
   "source": [
    "Dropping Unnecessary Columns"
   ]
  },
  {
   "cell_type": "code",
   "execution_count": 0,
   "metadata": {
    "application/vnd.databricks.v1+cell": {
     "cellMetadata": {
      "byteLimit": 2048000,
      "rowLimit": 10000
     },
     "inputWidgets": {},
     "nuid": "4fd8bf04-4b91-4fd0-936a-6a9a625356eb",
     "showTitle": false,
     "title": ""
    }
   },
   "outputs": [],
   "source": [
    "google_df=google_df.drop(\"Size\",\"Content Rating\",\"Last Updated\",\"Current Ver\",\"Android Ver\")"
   ]
  },
  {
   "cell_type": "code",
   "execution_count": 0,
   "metadata": {
    "application/vnd.databricks.v1+cell": {
     "cellMetadata": {
      "byteLimit": 2048000,
      "rowLimit": 10000
     },
     "inputWidgets": {},
     "nuid": "412e6935-272b-4662-9d0d-a1caf2d40269",
     "showTitle": false,
     "title": ""
    }
   },
   "outputs": [
    {
     "output_type": "stream",
     "name": "stdout",
     "output_type": "stream",
     "text": [
      "+--------------------+--------------+------+-------+--------+----+-----+------------+\n|                 App|      Category|Rating|Reviews|Installs|Type|Price|      Genres|\n+--------------------+--------------+------+-------+--------+----+-----+------------+\n|Photo Editor & Ca...|ART_AND_DESIGN|   4.1|    159| 10,000+|Free|    0|Art & Design|\n+--------------------+--------------+------+-------+--------+----+-----+------------+\nonly showing top 1 row\n\n"
     ]
    }
   ],
   "source": [
    "google_df.show(1)"
   ]
  },
  {
   "cell_type": "code",
   "execution_count": 0,
   "metadata": {
    "application/vnd.databricks.v1+cell": {
     "cellMetadata": {
      "byteLimit": 2048000,
      "rowLimit": 10000
     },
     "inputWidgets": {},
     "nuid": "f391aa5e-f875-41a3-a4ad-0a5cacf36991",
     "showTitle": false,
     "title": ""
    }
   },
   "outputs": [
    {
     "output_type": "stream",
     "name": "stdout",
     "output_type": "stream",
     "text": [
      "root\n |-- App: string (nullable = true)\n |-- Category: string (nullable = true)\n |-- Rating: string (nullable = true)\n |-- Reviews: string (nullable = true)\n |-- Installs: string (nullable = true)\n |-- Type: string (nullable = true)\n |-- Price: string (nullable = true)\n |-- Genres: string (nullable = true)\n\n"
     ]
    }
   ],
   "source": [
    "google_df.printSchema()"
   ]
  },
  {
   "cell_type": "markdown",
   "metadata": {
    "application/vnd.databricks.v1+cell": {
     "cellMetadata": {},
     "inputWidgets": {},
     "nuid": "e98f27a1-456f-44fe-8923-9e36f5c0d3b4",
     "showTitle": false,
     "title": ""
    }
   },
   "source": [
    "Casting DataTypes"
   ]
  },
  {
   "cell_type": "code",
   "execution_count": 0,
   "metadata": {
    "application/vnd.databricks.v1+cell": {
     "cellMetadata": {
      "byteLimit": 2048000,
      "rowLimit": 10000
     },
     "inputWidgets": {},
     "nuid": "74e39994-2a6c-494b-8178-a799e8c11ee7",
     "showTitle": false,
     "title": ""
    }
   },
   "outputs": [],
   "source": [
    "google_df=google_df.withColumn(\"Rating\",col(\"Rating\").cast(DoubleType()))\\\n",
    "                  .withColumn(\"Reviews\",col(\"Reviews\").cast(IntegerType()))\\\n",
    "                    .withColumn(\"Installs\",regexp_replace(\"Installs\",\"[^0-9]\",\"\"))\\\n",
    "                      .withColumn(\"Installs\",col(\"Installs\").cast(IntegerType()))\\\n",
    "                        .withColumn(\"Price\",regexp_replace(\"Price\",\"[$]\",\"\"))\\\n",
    "                          .withColumn(\"Price\",col(\"Price\").cast(IntegerType()))"
   ]
  },
  {
   "cell_type": "code",
   "execution_count": 0,
   "metadata": {
    "application/vnd.databricks.v1+cell": {
     "cellMetadata": {
      "byteLimit": 2048000,
      "rowLimit": 10000
     },
     "inputWidgets": {},
     "nuid": "bb976aae-f2b1-4869-bdb2-0c437ebb9eb1",
     "showTitle": false,
     "title": ""
    }
   },
   "outputs": [
    {
     "output_type": "stream",
     "name": "stdout",
     "output_type": "stream",
     "text": [
      "+--------------------+--------------+------+-------+--------+----+-----+------------+\n|                 App|      Category|Rating|Reviews|Installs|Type|Price|      Genres|\n+--------------------+--------------+------+-------+--------+----+-----+------------+\n|Photo Editor & Ca...|ART_AND_DESIGN|   4.1|    159|   10000|Free|    0|Art & Design|\n+--------------------+--------------+------+-------+--------+----+-----+------------+\nonly showing top 1 row\n\n"
     ]
    }
   ],
   "source": [
    "google_df.show(1)"
   ]
  },
  {
   "cell_type": "code",
   "execution_count": 0,
   "metadata": {
    "application/vnd.databricks.v1+cell": {
     "cellMetadata": {
      "byteLimit": 2048000,
      "rowLimit": 10000
     },
     "inputWidgets": {},
     "nuid": "5568762b-dbf0-43e3-99de-d41f6d5b4805",
     "showTitle": false,
     "title": ""
    }
   },
   "outputs": [
    {
     "output_type": "stream",
     "name": "stdout",
     "output_type": "stream",
     "text": [
      "root\n |-- App: string (nullable = true)\n |-- Category: string (nullable = true)\n |-- Rating: double (nullable = true)\n |-- Reviews: integer (nullable = true)\n |-- Installs: integer (nullable = true)\n |-- Type: string (nullable = true)\n |-- Price: integer (nullable = true)\n |-- Genres: string (nullable = true)\n\n"
     ]
    }
   ],
   "source": [
    "google_df.printSchema()"
   ]
  },
  {
   "cell_type": "markdown",
   "metadata": {
    "application/vnd.databricks.v1+cell": {
     "cellMetadata": {},
     "inputWidgets": {},
     "nuid": "13198588-ee55-4e3a-8fae-57779d044d2c",
     "showTitle": false,
     "title": ""
    }
   },
   "source": [
    "Top 10 app based on total reviews"
   ]
  },
  {
   "cell_type": "code",
   "execution_count": 0,
   "metadata": {
    "application/vnd.databricks.v1+cell": {
     "cellMetadata": {
      "byteLimit": 2048000,
      "rowLimit": 10000
     },
     "inputWidgets": {},
     "nuid": "e8da3426-868e-4c00-bcd0-1fc64aa45890",
     "showTitle": false,
     "title": ""
    }
   },
   "outputs": [],
   "source": [
    "top10_review_wise=google_df.groupBy(\"App\")\\\n",
    "                            .agg(sum(\"Reviews\").alias(\"total_reviews\"))\\\n",
    "                                .orderBy(\"total_reviews\",ascending=False)\\\n",
    "                                    .limit(10)"
   ]
  },
  {
   "cell_type": "code",
   "execution_count": 0,
   "metadata": {
    "application/vnd.databricks.v1+cell": {
     "cellMetadata": {
      "byteLimit": 2048000,
      "rowLimit": 10000
     },
     "inputWidgets": {},
     "nuid": "960b68f9-dd55-4d82-bd6c-91cca3c30bac",
     "showTitle": false,
     "title": ""
    }
   },
   "outputs": [
    {
     "output_type": "stream",
     "name": "stdout",
     "output_type": "stream",
     "text": [
      "+----------------------------------------+-------------+\n|App                                     |total_reviews|\n+----------------------------------------+-------------+\n|Instagram                               |266241989    |\n|WhatsApp Messenger                      |207348304    |\n|Clash of Clans                          |179558781    |\n|Messenger – Text and Video Chat for Free|169932272    |\n|Subway Surfers                          |166331958    |\n|Candy Crush Saga                        |156993136    |\n|Facebook                                |156286514    |\n|8 Ball Pool                             |99386198     |\n|Clash Royale                            |92530298     |\n|Snapchat                                |68045010     |\n+----------------------------------------+-------------+\n\n"
     ]
    }
   ],
   "source": [
    "top10_review_wise.show(truncate=False)"
   ]
  },
  {
   "cell_type": "markdown",
   "metadata": {
    "application/vnd.databricks.v1+cell": {
     "cellMetadata": {},
     "inputWidgets": {},
     "nuid": "070aadef-d177-4723-ba7c-94e8560727db",
     "showTitle": false,
     "title": ""
    }
   },
   "source": [
    "Top 10 installed Apps and distribution of types(paid/free)"
   ]
  },
  {
   "cell_type": "code",
   "execution_count": 0,
   "metadata": {
    "application/vnd.databricks.v1+cell": {
     "cellMetadata": {
      "byteLimit": 2048000,
      "rowLimit": 10000
     },
     "inputWidgets": {},
     "nuid": "b9f39659-05dd-4654-a0c0-a326380720d1",
     "showTitle": false,
     "title": ""
    }
   },
   "outputs": [],
   "source": [
    "top10_installed_app=google_df.groupBy(\"App\",\"Type\")\\\n",
    "                              .agg(sum(\"Installs\").alias(\"total_installation\"))\\\n",
    "                                .orderBy(desc(\"total_installation\"))\\\n",
    "                                  .limit(10)\n",
    "                                        "
   ]
  },
  {
   "cell_type": "code",
   "execution_count": 0,
   "metadata": {
    "application/vnd.databricks.v1+cell": {
     "cellMetadata": {
      "byteLimit": 2048000,
      "rowLimit": 10000
     },
     "inputWidgets": {},
     "nuid": "7df47fd5-0903-40f7-a9a6-de4e7c969aa7",
     "showTitle": false,
     "title": ""
    }
   },
   "outputs": [
    {
     "output_type": "stream",
     "name": "stdout",
     "output_type": "stream",
     "text": [
      "+------------------+----+------------------+\n|               App|Type|total_installation|\n+------------------+----+------------------+\n|    Subway Surfers|Free|        6000000000|\n|         Instagram|Free|        4000000000|\n|      Google Drive|Free|        4000000000|\n|          Hangouts|Free|        4000000000|\n|     Google Photos|Free|        4000000000|\n|       Google News|Free|        4000000000|\n|  Candy Crush Saga|Free|        3500000000|\n|WhatsApp Messenger|Free|        3000000000|\n|             Gmail|Free|        3000000000|\n|      Temple Run 2|Free|        3000000000|\n+------------------+----+------------------+\n\n"
     ]
    }
   ],
   "source": [
    "top10_installed_app.show()"
   ]
  },
  {
   "cell_type": "markdown",
   "metadata": {
    "application/vnd.databricks.v1+cell": {
     "cellMetadata": {},
     "inputWidgets": {},
     "nuid": "49d593c4-1ba3-40b5-8e42-3c2e90bd1c78",
     "showTitle": false,
     "title": ""
    }
   },
   "source": [
    "Category Wise Distribution of Installed Apps"
   ]
  },
  {
   "cell_type": "code",
   "execution_count": 0,
   "metadata": {
    "application/vnd.databricks.v1+cell": {
     "cellMetadata": {
      "byteLimit": 2048000,
      "rowLimit": 10000
     },
     "inputWidgets": {},
     "nuid": "38d045d4-d96d-4af2-8878-b23893cf0449",
     "showTitle": false,
     "title": ""
    }
   },
   "outputs": [],
   "source": [
    "category_wise_dist=google_df.groupBy(\"Category\")\\\n",
    "                              .agg(sum(\"Installs\").alias(\"total_installation\"))\\\n",
    "                                .orderBy(\"total_installation\",ascending=False)"
   ]
  },
  {
   "cell_type": "code",
   "execution_count": 0,
   "metadata": {
    "application/vnd.databricks.v1+cell": {
     "cellMetadata": {
      "byteLimit": 2048000,
      "rowLimit": 10000
     },
     "inputWidgets": {},
     "nuid": "bd40be22-6a29-4988-b8eb-ecd32850b522",
     "showTitle": false,
     "title": ""
    }
   },
   "outputs": [
    {
     "output_type": "stream",
     "name": "stdout",
     "output_type": "stream",
     "text": [
      "+------------------+------------------+\n|          Category|total_installation|\n+------------------+------------------+\n|              GAME|       35086024415|\n|     COMMUNICATION|       32647276251|\n|      PRODUCTIVITY|       14176091369|\n|            SOCIAL|       14069867902|\n|             TOOLS|       11452771915|\n|            FAMILY|       10258263505|\n|       PHOTOGRAPHY|       10088247655|\n|NEWS_AND_MAGAZINES|        7496317760|\n|  TRAVEL_AND_LOCAL|        6868887146|\n|     VIDEO_PLAYERS|        6222002720|\n+------------------+------------------+\nonly showing top 10 rows\n\n"
     ]
    }
   ],
   "source": [
    "category_wise_dist.show(10)"
   ]
  },
  {
   "cell_type": "markdown",
   "metadata": {
    "application/vnd.databricks.v1+cell": {
     "cellMetadata": {},
     "inputWidgets": {},
     "nuid": "a0c8293d-a6d5-4cb2-b1cf-ca90913b144c",
     "showTitle": false,
     "title": ""
    }
   },
   "source": [
    "Genres Wise Distribution of Paid Installed Apps"
   ]
  },
  {
   "cell_type": "code",
   "execution_count": 0,
   "metadata": {
    "application/vnd.databricks.v1+cell": {
     "cellMetadata": {
      "byteLimit": 2048000,
      "rowLimit": 10000
     },
     "inputWidgets": {},
     "nuid": "29ef75c3-e210-472f-bda5-a2f28bb9963a",
     "showTitle": false,
     "title": ""
    }
   },
   "outputs": [],
   "source": [
    "genres_wise_apps=google_df.groupBy(\"Genres\",\"Type\")\\\n",
    "                            .agg(sum(\"Installs\").alias(\"total_installation\"))\\\n",
    "                                .filter(col(\"Type\")==\"Paid\")\\\n",
    "                                    .orderBy(desc(\"total_installation\"))"
   ]
  },
  {
   "cell_type": "code",
   "execution_count": 0,
   "metadata": {
    "application/vnd.databricks.v1+cell": {
     "cellMetadata": {
      "byteLimit": 2048000,
      "rowLimit": 10000
     },
     "inputWidgets": {},
     "nuid": "5b54e445-e5b1-49b2-a154-ac69a5f5d616",
     "showTitle": false,
     "title": ""
    }
   },
   "outputs": [
    {
     "output_type": "stream",
     "name": "stdout",
     "output_type": "stream",
     "text": [
      "+--------------------+----+------------------+\n|              Genres|Type|total_installation|\n+--------------------+----+------------------+\n|Arcade;Action & A...|Paid|          20110000|\n|              Action|Paid|          17052250|\n|     Personalization|Paid|           5258794|\n|         Photography|Paid|           3978740|\n|              Puzzle|Paid|           2190620|\n|        Role Playing|Paid|           2092100|\n|            Strategy|Paid|           1995500|\n|               Tools|Paid|           1727441|\n|              Arcade|Paid|           1437215|\n|        Productivity|Paid|           1412055|\n|       Communication|Paid|           1360050|\n|           Adventure|Paid|           1278200|\n|              Sports|Paid|           1243815|\n|Education;Pretend...|Paid|           1188000|\n|           Lifestyle|Paid|           1179110|\n|  Puzzle;Brain Games|Paid|           1100000|\n|             Medical|Paid|           1020033|\n|Card;Action & Adv...|Paid|           1000000|\n|             Weather|Paid|            812000|\n|Sports;Action & A...|Paid|            600000|\n+--------------------+----+------------------+\nonly showing top 20 rows\n\n"
     ]
    }
   ],
   "source": [
    "genres_wise_apps.show()"
   ]
  },
  {
   "cell_type": "code",
   "execution_count": 0,
   "metadata": {
    "application/vnd.databricks.v1+cell": {
     "cellMetadata": {},
     "inputWidgets": {},
     "nuid": "ff587726-0ca5-4b45-8f79-c6dcd57e3fed",
     "showTitle": false,
     "title": ""
    }
   },
   "outputs": [],
   "source": []
  }
 ],
 "metadata": {
  "application/vnd.databricks.v1+notebook": {
   "dashboards": [],
   "environmentMetadata": null,
   "language": "python",
   "notebookMetadata": {
    "pythonIndentUnit": 4
   },
   "notebookName": "Google PlayStore",
   "widgets": {}
  }
 },
 "nbformat": 4,
 "nbformat_minor": 0
}
